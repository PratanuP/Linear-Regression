{
  "nbformat": 4,
  "nbformat_minor": 0,
  "metadata": {
    "colab": {
      "provenance": []
    },
    "kernelspec": {
      "name": "python3",
      "display_name": "Python 3"
    },
    "language_info": {
      "name": "python"
    }
  },
  "cells": [
    {
      "cell_type": "markdown",
      "source": [
        "# **Linear Regression**"
      ],
      "metadata": {
        "id": "uO-ZOYb8zMju"
      }
    },
    {
      "cell_type": "code",
      "source": [
        "import numpy as np\n",
        "import pandas as pd  \n",
        "from sklearn.model_selection import train_test_split\n",
        "import matplotlib.pyplot as plt"
      ],
      "metadata": {
        "id": "VctSFKZAzW5b"
      },
      "execution_count": 1,
      "outputs": []
    },
    {
      "cell_type": "code",
      "source": [
        "class LinearRegression() :\n",
        "\n",
        "    #initating the parameters  \n",
        "    def __init__(self, learning_rate, iterations): \n",
        "        self.learning_rate = learning_rate \n",
        "        self.iterations = iterations\n",
        "          \n",
        "    #Function for model training          \n",
        "    def fit(self, X, Y) :\n",
        "          \n",
        "        #no_of_training_examples(data points), no_of_features\n",
        "        self.m, self.n = X.shape\n",
        "          \n",
        "        #weight initialization\n",
        "        self.W = np.zeros(self.n) \n",
        "        self.b = 0 \n",
        "        self.X = X\n",
        "        self.Y = Y\n",
        "          \n",
        "        #gradient descent learning        \n",
        "        for i in range(self.iterations) :\n",
        "            self.update_weights()\n",
        "        return self\n",
        "      \n",
        "    #Helper function to update weights in gradient descent\n",
        "    def update_weights(self) : \n",
        "        Y_pred = self.predict(self.X)\n",
        "          \n",
        "        #calculate gradients(learning rate)\n",
        "        #dw is change in loss function when weight changes\n",
        "        #db is the change in loss function when bais changes\n",
        "      \n",
        "        dW = - (2 * ( self.X.T ).dot( self.Y - Y_pred)) / self.m\n",
        "        db = - 2 * np.sum(self.Y - Y_pred) / self.m \n",
        "          \n",
        "        #update weights(gradient decent)\n",
        "        self.W = self.W - self.learning_rate * dW\n",
        "        self.b = self.b - self.learning_rate * db\n",
        "        return self\n",
        "      \n",
        "    #Hypothetical function  h( x ) \n",
        "    def predict(self, X) :\n",
        "        return X.dot(self.W) + self.b"
      ],
      "metadata": {
        "id": "wvLDpxzJzb1b"
      },
      "execution_count": 2,
      "outputs": []
    },
    {
      "cell_type": "code",
      "source": [
        "def main() :\n",
        "      \n",
        "    #Importing dataset\n",
        "    df = pd.read_csv(\"salary.csv\")\n",
        "    X = df.iloc[:,:-1].values\n",
        "    Y = df.iloc[:,1].values\n",
        "      \n",
        "    #Splitting dataset into train and test set\n",
        "    X_train, X_test, Y_train, Y_test = train_test_split(X, Y, test_size = 0.2, random_state = 0)\n",
        "      \n",
        "    #Model training\n",
        "    model = LinearRegression(iterations = 1000, learning_rate = 0.01)\n",
        "    model.fit(X_train, Y_train)\n",
        "      \n",
        "    #Prediction on test set\n",
        "    Y_pred = model.predict(X_test)\n",
        "      \n",
        "    print(\"Predicted values \", np.round(Y_pred[:3], 2))\n",
        "    print(\"Real values      \", Y_test[:3])\n",
        "    print(\"Trained W        \", round(model.W[0], 2))\n",
        "    print(\"Trained b        \", round(model.b, 2))\n",
        "      \n",
        "    #Visualization on test set \n",
        "    plt.scatter(X_test, Y_test, color = 'blue')\n",
        "    plt.plot(X_test, Y_pred, color = 'orange')\n",
        "    plt.title('Salary vs Experience')\n",
        "    plt.xlabel('Years of Experience')\n",
        "    plt.ylabel('Salary')\n",
        "    plt.show()\n",
        "\n",
        "main()"
      ],
      "metadata": {
        "colab": {
          "base_uri": "https://localhost:8080/",
          "height": 364
        },
        "id": "4rTR7L0bzh3V",
        "outputId": "91c739f5-c5d2-4fef-98ba-ae3d9519ef32"
      },
      "execution_count": 3,
      "outputs": [
        {
          "output_type": "stream",
          "name": "stdout",
          "text": [
            "Predicted values  [ 40418.78 122970.1   64808.94]\n",
            "Real values       [ 37731 122391  57081]\n",
            "Trained W         9380.83\n",
            "Trained b         26347.53\n"
          ]
        },
        {
          "output_type": "display_data",
          "data": {
            "text/plain": [
              "<Figure size 432x288 with 1 Axes>"
            ],
            "image/png": "[encoded data removed]"
          },
          "metadata": {
            "needs_background": "light"
          }
        }
      ]
    }
  ]
}